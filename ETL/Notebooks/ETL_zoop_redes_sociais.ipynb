{
	"cells": [
		{
			"cell_type": "markdown",
			"metadata": {
				"editable": true,
				"trusted": true
			},
			"source": [
				"# AWS Glue Studio Notebook - Redes Sociais\n",
				"\n",
				"##### Você está executando um Notebook do AWS Glue Studio. Para começar a utilizá-lo, você precisa iniciar um Sessão interativa do AWS Glue.\n",
				"\n",
				"Este é o notebook utilizado no processo de ETL dos dados da Tabela Redes Sociais da Zoop. Observe cada uma das etapas e, em caso de dúvidas, assista ao vídeo correspondente ao tratamento desta tabela.\n",
				"\n",
				"Faça bom proveito deste conteúdo! &#x1F642;"
			]
		},
		{
			"cell_type": "markdown",
			"metadata": {
				"editable": true,
				"trusted": true
			},
			"source": [
				"#### Opcional: Execute esta célula se quiser observar os comandos deste notebook (\"magics\")."
			]
		},
		{
			"cell_type": "code",
			"execution_count": null,
			"metadata": {
				"editable": true,
				"trusted": true
			},
			"outputs": [],
			"source": [
				"%help"
			]
		},
		{
			"cell_type": "markdown",
			"metadata": {
				"editable": true,
				"trusted": true
			},
			"source": [
				"#### Configurando e iniciando uma sessão interativa."
			]
		},
		{
			"cell_type": "code",
			"execution_count": 1,
			"metadata": {
				"editable": true,
				"trusted": true
			},
			"outputs": [
				{
					"name": "stdout",
					"output_type": "stream",
					"text": [
						"Welcome to the Glue Interactive Sessions Kernel\n",
						"For more information on available magic commands, please type %help in any new cell.\n",
						"\n",
						"Please view our Getting Started page to access the most up-to-date information on the Interactive Sessions kernel: https://docs.aws.amazon.com/glue/latest/dg/interactive-sessions.html\n",
						"Installed kernel version: 1.0.5 \n",
						"Current idle_timeout is None minutes.\n",
						"idle_timeout has been set to 60 minutes.\n",
						"Setting Glue version to: 4.0\n",
						"Previous worker type: None\n",
						"Setting new worker type to: G.1X\n",
						"Previous number of workers: None\n",
						"Setting new number of workers to: 5\n",
						"Trying to create a Glue session for the kernel.\n",
						"Session Type: glueetl\n",
						"Worker Type: G.1X\n",
						"Number of Workers: 5\n",
						"Idle Timeout: 60\n",
						"Session ID: 1b6a0633-95f4-4389-962d-cc228c17d01f\n",
						"Applying the following default arguments:\n",
						"--glue_kernel_version 1.0.5\n",
						"--enable-glue-datacatalog true\n",
						"Waiting for session 1b6a0633-95f4-4389-962d-cc228c17d01f to get into ready status...\n",
						"Session 1b6a0633-95f4-4389-962d-cc228c17d01f has been created.\n",
						"\n"
					]
				}
			],
			"source": [
				"%idle_timeout 60\n",
				"%glue_version 4.0\n",
				"%worker_type G.1X\n",
				"%number_of_workers 5\n",
				"\n",
				"import sys\n",
				"from awsglue.transforms import *\n",
				"from awsglue.utils import getResolvedOptions\n",
				"from pyspark.context import SparkContext\n",
				"from awsglue.context import GlueContext\n",
				"from awsglue.job import Job\n",
				"  \n",
				"sc = SparkContext.getOrCreate()\n",
				"glueContext = GlueContext(sc)\n",
				"spark = glueContext.spark_session\n",
				"job = Job(glueContext)"
			]
		},
		{
			"cell_type": "markdown",
			"metadata": {
				"editable": true,
				"trusted": true
			},
			"source": [
				"#### Criando um DynamicFrame de uma tabela no AWS Glue Data Catalog e mostrando seu schema"
			]
		},
		{
			"cell_type": "code",
			"execution_count": 2,
			"metadata": {
				"editable": true,
				"trusted": true
			},
			"outputs": [
				{
					"name": "stdout",
					"output_type": "stream",
					"text": [
						"root\n",
						"|-- ID_social: long\n",
						"|-- Data: string\n",
						"|-- Influencia_autor: long\n",
						"|-- Plataforma: string\n",
						"|-- Nome_produto: string\n",
						"|-- Categoria_produto: string\n",
						"|-- Comentario: string\n"
					]
				}
			],
			"source": [
				"redes_sociais_zoop_dyf = glueContext.create_dynamic_frame.from_catalog(database='db-glue-zoop', table_name='zoop-glue-redes_sociais_zoop_bronze_parquet')\n",
				"redes_sociais_zoop_dyf.printSchema()"
			]
		},
		{
			"cell_type": "markdown",
			"metadata": {
				"editable": true,
				"trusted": true
			},
			"source": [
				"#### Criando um Spark DataFrame de um DynamicFrame"
			]
		},
		{
			"cell_type": "code",
			"execution_count": 3,
			"metadata": {
				"editable": true,
				"trusted": true
			},
			"outputs": [
				{
					"name": "stdout",
					"output_type": "stream",
					"text": [
						"+---------+----------+----------------+-----------+----------------------+-----------------+---------------------------------------------------------------------------------------+\n",
						"|ID_social|Data      |Influencia_autor|Plataforma |Nome_produto          |Categoria_produto|Comentario                                                                             |\n",
						"+---------+----------+----------------+-----------+----------------------+-----------------+---------------------------------------------------------------------------------------+\n",
						"|3933     |2022-12-02|65011           |Instagram  |Panela elétrica       |Eletrodomésticos |Atendeu todas as minhas necessidades. Recomendo! #Panelaeletrica Nota 5                |\n",
						"|2858     |2022-08-28|11777           |Instagram  |Máquina de lavar roupa|Eletrodomésticos |Frustrado com a compra. Produto muito inferior ao esperado. #Maquinadelavarroupa Nota 2|\n",
						"|6233     |2023-07-27|33012           |X (Twitter)|Geladeira             |Eletrodomésticos |Recomendo a todos! Produto perfeito para o dia a dia. #Geladeira Nota 4                |\n",
						"|8237     |2024-03-17|54906           |X (Twitter)|Frigobar              |Eletrodomésticos |Produto excelente! Recomendo muito. #Frigobar Nota 5                                   |\n",
						"|3020     |2022-08-08|1263            |Facebook   |Fritadeira elétrica   |Eletrodomésticos |Muito satisfeito com a compra! Superou as expectativas. #Fritadeiraeletrica Nota 4     |\n",
						"+---------+----------+----------------+-----------+----------------------+-----------------+---------------------------------------------------------------------------------------+\n",
						"only showing top 5 rows\n",
						"\n",
						"/opt/amazon/spark/python/lib/pyspark.zip/pyspark/sql/dataframe.py:127: UserWarning: DataFrame constructor is internal. Do not directly use it.\n"
					]
				}
			],
			"source": [
				"redes_sociais_zoop_df = redes_sociais_zoop_dyf.toDF()\n",
				"redes_sociais_zoop_df.show(5, truncate=False)"
			]
		},
		{
			"cell_type": "markdown",
			"metadata": {},
			"source": [
				"#### Extraindo as notas da coluna `Comentario`, criando uma coluna `Avaliacao` e retirando a expressão “Nota X” da coluna `Comentario`"
			]
		},
		{
			"cell_type": "code",
			"execution_count": 4,
			"metadata": {
				"tags": [],
				"trusted": true
			},
			"outputs": [
				{
					"name": "stdout",
					"output_type": "stream",
					"text": [
						"+---------+----------+----------------+-----------+----------------------+-----------------+--------------------------------------------------------------------------------+---------+\n",
						"|ID_social|Data      |Influencia_autor|Plataforma |Nome_produto          |Categoria_produto|Comentario                                                                      |Avaliacao|\n",
						"+---------+----------+----------------+-----------+----------------------+-----------------+--------------------------------------------------------------------------------+---------+\n",
						"|3933     |2022-12-02|65011           |Instagram  |Panela elétrica       |Eletrodomésticos |Atendeu todas as minhas necessidades. Recomendo! #Panelaeletrica                |5        |\n",
						"|2858     |2022-08-28|11777           |Instagram  |Máquina de lavar roupa|Eletrodomésticos |Frustrado com a compra. Produto muito inferior ao esperado. #Maquinadelavarroupa|2        |\n",
						"|6233     |2023-07-27|33012           |X (Twitter)|Geladeira             |Eletrodomésticos |Recomendo a todos! Produto perfeito para o dia a dia. #Geladeira                |4        |\n",
						"|8237     |2024-03-17|54906           |X (Twitter)|Frigobar              |Eletrodomésticos |Produto excelente! Recomendo muito. #Frigobar                                   |5        |\n",
						"|3020     |2022-08-08|1263            |Facebook   |Fritadeira elétrica   |Eletrodomésticos |Muito satisfeito com a compra! Superou as expectativas. #Fritadeiraeletrica     |4        |\n",
						"|2584     |2022-07-18|80434           |X (Twitter)|Frigobar              |Eletrodomésticos |Qualidade baixa. Me arrependi de ter comprado. #Frigobar                        |2        |\n",
						"|1812     |2022-03-09|29909           |Facebook   |Micro-ondas           |Eletrodomésticos |Qualidade excepcional. Estou muito feliz com a compra. #Micro-ondas             |4        |\n",
						"|8167     |2024-02-20|27158           |X (Twitter)|Fritadeira elétrica   |Eletrodomésticos |Entrega rápida e produto conforme descrito. #Fritadeiraeletrica                 |4        |\n",
						"|6489     |2023-09-12|33383           |X (Twitter)|Ferro de passar roupa |Eletrodomésticos |Produto incrível! Desempenho muito acima da média. #Ferrodepassarroupa          |5        |\n",
						"|8093     |2024-03-20|54952           |X (Twitter)|Frigobar              |Eletrodomésticos |Produto incrível! Desempenho muito acima da média. #Frigobar                    |4        |\n",
						"|7039     |2023-11-22|52782           |X (Twitter)|Câmera digital        |Eletrônicos      |Estou impressionado com a qualidade e a eficiência. #Cameradigital              |4        |\n",
						"|2702     |2022-08-09|91095           |Facebook   |Fritadeira elétrica   |Eletrodomésticos |Atendeu todas as minhas necessidades. Recomendo! #Fritadeiraeletrica            |4        |\n",
						"|9586     |2024-07-24|54977           |X (Twitter)|Câmera de segurança   |Eletrônicos      |Recomendo a todos! Produto perfeito para o dia a dia. #Cameradeseguranca        |5        |\n",
						"|8219     |2024-03-12|51285           |X (Twitter)|Câmera de segurança   |Eletrônicos      |Entrega rápida e produto conforme descrito. #Cameradeseguranca                  |5        |\n",
						"|6728     |2023-09-12|24035           |X (Twitter)|TV Box                |Eletrônicos      |Produto ruim. Esperava muito mais. #TVBox                                       |2        |\n",
						"|7698     |2024-02-07|63496           |X (Twitter)|Batedeira             |Eletrodomésticos |Recomendo a todos! Produto perfeito para o dia a dia. #Batedeira                |5        |\n",
						"|2747     |2022-07-31|7823            |Instagram  |Ventilador de mesa    |Eletrodomésticos |Atendeu todas as minhas necessidades. Recomendo! #Ventiladordemesa              |5        |\n",
						"|8110     |2024-02-03|87094           |X (Twitter)|Relógio inteligente   |Eletrônicos      |Produto incrível! Desempenho muito acima da média. #Relogiointeligente          |4        |\n",
						"|2873     |2022-07-11|25655           |X (Twitter)|Smartphone            |Eletrônicos      |Quebra facilmente. Não vale o investimento. #Smartphone                         |2        |\n",
						"|8161     |2024-03-18|41246           |Facebook   |Relógio inteligente   |Eletrônicos      |Entrega rápida e produto conforme descrito. #Relogiointeligente                 |5        |\n",
						"+---------+----------+----------------+-----------+----------------------+-----------------+--------------------------------------------------------------------------------+---------+\n",
						"only showing top 20 rows\n"
					]
				}
			],
			"source": [
				"from pyspark.sql.functions import regexp_extract, regexp_replace\n",
				"\n",
				"redes_sociais_zoop_df = redes_sociais_zoop_df.withColumn(\"Avaliacao\", regexp_extract(\"Comentario\", r\"Nota (\\d)\", 1))\n",
				"redes_sociais_zoop_df = redes_sociais_zoop_df.withColumn(\"Comentario\", regexp_replace(\"Comentario\", r\" Nota \\d\", \"\"))\n",
				"\n",
				"redes_sociais_zoop_df.show(truncate=False)"
			]
		},
		{
			"cell_type": "markdown",
			"metadata": {},
			"source": [
				"#### Verificando os tipos dos dados convertendo o Spark DataFrame em um Pandas DataFrame"
			]
		},
		{
			"cell_type": "code",
			"execution_count": 5,
			"metadata": {
				"tags": [],
				"trusted": true
			},
			"outputs": [
				{
					"name": "stdout",
					"output_type": "stream",
					"text": [
						"<class 'pandas.core.frame.DataFrame'>\n",
						"RangeIndex: 10000 entries, 0 to 9999\n",
						"Data columns (total 8 columns):\n",
						" #   Column             Non-Null Count  Dtype \n",
						"---  ------             --------------  ----- \n",
						" 0   ID_social          10000 non-null  int64 \n",
						" 1   Data               10000 non-null  object\n",
						" 2   Influencia_autor   10000 non-null  int64 \n",
						" 3   Plataforma         10000 non-null  object\n",
						" 4   Nome_produto       10000 non-null  object\n",
						" 5   Categoria_produto  10000 non-null  object\n",
						" 6   Comentario         10000 non-null  object\n",
						" 7   Avaliacao          10000 non-null  object\n",
						"dtypes: int64(2), object(6)\n",
						"memory usage: 625.1+ KB\n"
					]
				}
			],
			"source": [
				"redes_sociais_zoop_df.toPandas().info()"
			]
		},
		{
			"cell_type": "markdown",
			"metadata": {},
			"source": [
				"#### Convertendo um Spark Data Frame em um DynamicFrame"
			]
		},
		{
			"cell_type": "code",
			"execution_count": 6,
			"metadata": {
				"tags": [],
				"trusted": true
			},
			"outputs": [
				{
					"name": "stdout",
					"output_type": "stream",
					"text": [
						"\n"
					]
				}
			],
			"source": [
				"from awsglue.dynamicframe import DynamicFrame\n",
				"\n",
				"redes_sociais_zoop_dyf = DynamicFrame.fromDF(redes_sociais_zoop_df, glueContext)"
			]
		},
		{
			"cell_type": "markdown",
			"metadata": {},
			"source": [
				"#### Ajustando os tipos dos dados e mapeando as colunas desejadas"
			]
		},
		{
			"cell_type": "code",
			"execution_count": 7,
			"metadata": {
				"tags": [],
				"trusted": true
			},
			"outputs": [
				{
					"name": "stdout",
					"output_type": "stream",
					"text": [
						"root\n",
						"|-- id_social: long\n",
						"|-- data: date\n",
						"|-- influencia_autor: int\n",
						"|-- plataforma: string\n",
						"|-- produto: string\n",
						"|-- categoria_produto: string\n",
						"|-- avaliacao: int\n",
						"|-- comentario: string\n"
					]
				}
			],
			"source": [
				"redes_sociais_zoop_dyf_mapeado = redes_sociais_zoop_dyf.apply_mapping(\n",
				"    mappings=[\n",
				"        (\"ID_social\", \"long\", \"id_social\", \"long\"),\n",
				"        (\"Data\", \"string\", \"data\", \"date\"),\n",
				"        (\"Influencia_autor\", \"long\", \"influencia_autor\", \"int\"),\n",
				"        (\"Plataforma\", \"string\", \"plataforma\", \"string\"),\n",
				"        (\"Nome_produto\", \"string\", \"produto\", \"string\"),\n",
				"        (\"Categoria_produto\", \"string\", \"categoria_produto\", \"string\"),\n",
				"        (\"Avaliacao\", \"string\", \"avaliacao\", \"int\"),\n",
				"        (\"Comentario\", \"string\", \"comentario\", \"string\")\n",
				"    ]\n",
				")\n",
				"\n",
				"redes_sociais_zoop_dyf_mapeado.printSchema()"
			]
		},
		{
			"cell_type": "markdown",
			"metadata": {
				"editable": true,
				"tags": [],
				"trusted": true
			},
			"source": [
				"#### Escrevendo os dados do DynamicFrame em um objeto do Bucket S3 na camada silver e em uma tabela no AWS Glue Data Catalog\n"
			]
		},
		{
			"cell_type": "code",
			"execution_count": 8,
			"metadata": {
				"editable": true,
				"trusted": true
			},
			"outputs": [
				{
					"name": "stdout",
					"output_type": "stream",
					"text": [
						"<awsglue.dynamicframe.DynamicFrame object at 0x7f3dbe51c220>\n"
					]
				}
			],
			"source": [
				"s3output = glueContext.getSink(\n",
				"  path=\"s3://dados-zoop/silver/redes-sociais\",  # adicione o nome do seu bucket no path\n",
				"  connection_type=\"s3\",\n",
				"  updateBehavior=\"UPDATE_IN_DATABASE\",\n",
				"  partitionKeys=[],\n",
				"  compression=\"snappy\",\n",
				"  enableUpdateCatalog=True,\n",
				"  transformation_ctx=\"s3output\",\n",
				")\n",
				"s3output.setCatalogInfo(\n",
				"  catalogDatabase=\"db-glue-zoop\", catalogTableName=\"zoop-glue-redes_sociais_zoop_silver\"\n",
				")\n",
				"s3output.setFormat(\"glueparquet\")\n",
				"s3output.writeFrame(redes_sociais_zoop_dyf_mapeado)"
			]
		}
	],
	"metadata": {
		"kernelspec": {
			"display_name": "Python 3",
			"language": "python",
			"name": "python3"
		},
		"language_info": {
			"codemirror_mode": {
				"name": "python",
				"version": 3
			},
			"file_extension": ".py",
			"mimetype": "text/x-python",
			"name": "python",
			"pygments_lexer": "python3",
			"version": "3.10.5"
		}
	},
	"nbformat": 4,
	"nbformat_minor": 4
}
