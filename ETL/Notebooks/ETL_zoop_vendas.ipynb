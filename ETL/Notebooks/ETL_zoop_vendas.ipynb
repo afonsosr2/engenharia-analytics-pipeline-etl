{
	"cells": [
		{
			"cell_type": "markdown",
			"metadata": {
				"editable": true,
				"trusted": true
			},
			"source": [
				"# AWS Glue Studio Notebook - Vendas\n",
				"\n",
				"##### Você está executando um Notebook do AWS Glue Studio. Para começar a utilizá-lo, você precisa iniciar um Sessão interativa do AWS Glue.\n",
				"\n",
				"Este é o notebook utilizado no processo de ETL dos dados da Tabela Vendas da Zoop. Observe cada uma das etapas e, em caso de dúvidas, assista ao vídeo correspondente ao tratamento desta tabela.\n",
				"\n",
				"Faça bom proveito deste conteúdo! &#x1F642;"
			]
		},
		{
			"cell_type": "markdown",
			"metadata": {
				"editable": true,
				"trusted": true
			},
			"source": [
				"#### Opcional: Execute esta célula se quiser observar os comandos deste notebook (\"magics\")."
			]
		},
		{
			"cell_type": "code",
			"execution_count": null,
			"metadata": {
				"editable": true,
				"trusted": true
			},
			"outputs": [],
			"source": [
				"%help"
			]
		},
		{
			"cell_type": "markdown",
			"metadata": {
				"editable": true,
				"trusted": true
			},
			"source": [
				"#### Configurando e iniciando uma sessão interativa."
			]
		},
		{
			"cell_type": "code",
			"execution_count": 1,
			"metadata": {
				"editable": true,
				"trusted": true
			},
			"outputs": [
				{
					"name": "stdout",
					"output_type": "stream",
					"text": [
						"Welcome to the Glue Interactive Sessions Kernel\n",
						"For more information on available magic commands, please type %help in any new cell.\n",
						"\n",
						"Please view our Getting Started page to access the most up-to-date information on the Interactive Sessions kernel: https://docs.aws.amazon.com/glue/latest/dg/interactive-sessions.html\n",
						"Installed kernel version: 1.0.5 \n",
						"Current idle_timeout is None minutes.\n",
						"idle_timeout has been set to 60 minutes.\n",
						"Setting Glue version to: 4.0\n",
						"Previous worker type: None\n",
						"Setting new worker type to: G.1X\n",
						"Previous number of workers: None\n",
						"Setting new number of workers to: 5\n",
						"Trying to create a Glue session for the kernel.\n",
						"Session Type: glueetl\n",
						"Worker Type: G.1X\n",
						"Number of Workers: 5\n",
						"Idle Timeout: 60\n",
						"Session ID: 6f1f3ad4-ea98-4e27-ad7a-7079a1f73882\n",
						"Applying the following default arguments:\n",
						"--glue_kernel_version 1.0.5\n",
						"--enable-glue-datacatalog true\n",
						"Waiting for session 6f1f3ad4-ea98-4e27-ad7a-7079a1f73882 to get into ready status...\n",
						"Session 6f1f3ad4-ea98-4e27-ad7a-7079a1f73882 has been created.\n",
						"\n"
					]
				}
			],
			"source": [
				"%idle_timeout 60\n",
				"%glue_version 4.0\n",
				"%worker_type G.1X\n",
				"%number_of_workers 5\n",
				"\n",
				"import sys\n",
				"from awsglue.transforms import *\n",
				"from awsglue.utils import getResolvedOptions\n",
				"from pyspark.context import SparkContext\n",
				"from awsglue.context import GlueContext\n",
				"from awsglue.job import Job\n",
				"  \n",
				"sc = SparkContext.getOrCreate()\n",
				"glueContext = GlueContext(sc)\n",
				"spark = glueContext.spark_session\n",
				"job = Job(glueContext)"
			]
		},
		{
			"cell_type": "markdown",
			"metadata": {
				"editable": true,
				"trusted": true
			},
			"source": [
				"#### Criando um DynamicFrame de uma tabela no AWS Glue Data Catalog e mostrando seu schema"
			]
		},
		{
			"cell_type": "code",
			"execution_count": 27,
			"metadata": {
				"editable": true,
				"trusted": true
			},
			"outputs": [
				{
					"name": "stdout",
					"output_type": "stream",
					"text": [
						"root\n",
						"|-- ID_venda: long\n",
						"|-- Dia: long\n",
						"|-- Mês: long\n",
						"|-- Ano: long\n",
						"|-- Horario: string\n",
						"|-- Canal_venda: string\n",
						"|-- Origem_venda: string\n",
						"|-- ID_produto: long\n",
						"|-- Produto: string\n",
						"|-- Categoria_produto: string\n",
						"|-- Preco_unitario: double\n",
						"|-- Quantidade: long\n",
						"|-- Metodo_pagamento: string\n",
						"|-- ID_cliente: long\n",
						"|-- Nome_cliente: string\n",
						"|-- Genero_cliente: string\n",
						"|-- Idade_cliente: long\n",
						"|-- Cidade_cliente: string\n",
						"|-- UF_cliente: string\n",
						"|-- Regiao_cliente: string\n",
						"|-- Avaliacao: long\n"
					]
				}
			],
			"source": [
				"vendas_zoop_dyf = glueContext.create_dynamic_frame.from_catalog(database='db-glue-zoop', table_name='zoop-glue-vendas_zoop_bronze_parquet')\n",
				"vendas_zoop_dyf.printSchema()"
			]
		},
		{
			"cell_type": "markdown",
			"metadata": {
				"editable": true,
				"trusted": true
			},
			"source": [
				"#### Criando um Spark DataFrame de um DynamicFrame"
			]
		},
		{
			"cell_type": "code",
			"execution_count": 28,
			"metadata": {
				"editable": true,
				"trusted": true
			},
			"outputs": [
				{
					"name": "stdout",
					"output_type": "stream",
					"text": [
						"+--------+---+---+----+--------+-----------+------------+----------+------------------+-----------------+--------------+----------+-----------------+----------+-------------------+--------------+-------------+--------------+--------------+--------------+---------+\n",
						"|ID_venda|Dia|Mês| Ano| Horario|Canal_venda|Origem_venda|ID_produto|           Produto|Categoria_produto|Preco_unitario|Quantidade| Metodo_pagamento|ID_cliente|       Nome_cliente|Genero_cliente|Idade_cliente|Cidade_cliente|    UF_cliente|Regiao_cliente|Avaliacao|\n",
						"+--------+---+---+----+--------+-----------+------------+----------+------------------+-----------------+--------------+----------+-----------------+----------+-------------------+--------------+-------------+--------------+--------------+--------------+---------+\n",
						"|    9052|  8|  5|2024|04:19:11| e-commerce|    Facebook|        10|    Câmera digital|      Eletrônicos|        1299.0|         2|              PIX|       393|      Luigi da Mota|     Masculino|           32|       Goiânia|         Goiás|  Centro-Oeste|        2|\n",
						"|    3021| 16|  7|2022|10:09:00|     Loja 1|        Loja|        13|Ventilador de mesa| Eletrodomésticos|         129.0|         1|Cartão de crédito|       199|Pedro Miguel Novaes|     Masculino|           34|     São Paulo|     São Paulo|       Sudeste|        5|\n",
						"|     745| 12| 11|2021|21:03:35| e-commerce|   Instagram|         5|    Liquidificador| Eletrodomésticos|         149.0|         3| Cartão de débito|        54|        Josué Souza|     Masculino|           41|Campina Grande|       Paraíba|      Nordeste|        3|\n",
						"|    7031|  4| 10|2023|12:12:26| e-commerce|   Instagram|         4|        Smartphone|      Eletrônicos|        1499.0|         2|              PIX|       302|   Vicente Mendonça|     Masculino|           38|      Camaçari|         Bahia|      Nordeste|        3|\n",
						"|    7296|  2| 11|2023|11:55:00|     Loja 2|        Loja|        11| Chuveiro elétrico| Eletrodomésticos|          89.0|         3| Cartão de débito|       282|      Clara Rezende|      Feminino|           39|   São Gonçalo|Rio de Janeiro|       Sudeste|        5|\n",
						"+--------+---+---+----+--------+-----------+------------+----------+------------------+-----------------+--------------+----------+-----------------+----------+-------------------+--------------+-------------+--------------+--------------+--------------+---------+\n",
						"only showing top 5 rows\n"
					]
				}
			],
			"source": [
				"vendas_zoop_df = vendas_zoop_dyf.toDF()\n",
				"vendas_zoop_df.show(5)"
			]
		},
		{
			"cell_type": "markdown",
			"metadata": {},
			"source": [
				"#### Concatenando os dados de dia, mês e ano em uma coluna de data e excluindo colunas"
			]
		},
		{
			"cell_type": "code",
			"execution_count": 29,
			"metadata": {
				"tags": [],
				"trusted": true
			},
			"outputs": [
				{
					"name": "stdout",
					"output_type": "stream",
					"text": [
						"+--------+--------+-----------+------------+----------+------------------+-----------------+--------------+----------+-----------------+----------+-------------------+--------------+-------------+--------------+----------+--------------+---------+----------+\n",
						"|ID_venda| Horario|Canal_venda|Origem_venda|ID_produto|           Produto|Categoria_produto|Preco_unitario|Quantidade| Metodo_pagamento|ID_cliente|       Nome_cliente|Genero_cliente|Idade_cliente|Cidade_cliente|UF_cliente|Regiao_cliente|Avaliacao|      Data|\n",
						"+--------+--------+-----------+------------+----------+------------------+-----------------+--------------+----------+-----------------+----------+-------------------+--------------+-------------+--------------+----------+--------------+---------+----------+\n",
						"|    9052|04:19:11| e-commerce|    Facebook|        10|    Câmera digital|      Eletrônicos|        1299.0|         2|              PIX|       393|      Luigi da Mota|     Masculino|           32|       Goiânia|     Goiás|  Centro-Oeste|        2|2024-05-08|\n",
						"|    3021|10:09:00|     Loja 1|        Loja|        13|Ventilador de mesa| Eletrodomésticos|         129.0|         1|Cartão de crédito|       199|Pedro Miguel Novaes|     Masculino|           34|     São Paulo| São Paulo|       Sudeste|        5|2022-07-16|\n",
						"|     745|21:03:35| e-commerce|   Instagram|         5|    Liquidificador| Eletrodomésticos|         149.0|         3| Cartão de débito|        54|        Josué Souza|     Masculino|           41|Campina Grande|   Paraíba|      Nordeste|        3|2021-11-12|\n",
						"+--------+--------+-----------+------------+----------+------------------+-----------------+--------------+----------+-----------------+----------+-------------------+--------------+-------------+--------------+----------+--------------+---------+----------+\n",
						"only showing top 3 rows\n"
					]
				}
			],
			"source": [
				"from pyspark.sql.functions import col, concat_ws, to_date\n",
				"\n",
				"# Transformar as colunas dia, mes e ano em uma única coluna de data\n",
				"vendas_zoop_df = vendas_zoop_df.withColumn(\"Data\", concat_ws(\"-\", col(\"Ano\"), col(\"Mês\"), col(\"Dia\")))\n",
				"vendas_zoop_df = vendas_zoop_df.withColumn(\"Data\", to_date(col(\"Data\")))\n",
				"\n",
				"# Remove as colunas dia, mês e ano\n",
				"vendas_zoop_df = vendas_zoop_df.drop(\"Dia\",\"Mês\",\"Ano\")\n",
				"\n",
				"vendas_zoop_df.show(3)"
			]
		},
		{
			"cell_type": "markdown",
			"metadata": {},
			"source": [
				"#### Criando uma UDF (Função definida pelo usuário) para mapear e converter nomes dos estados para suas respectivas siglas"
			]
		},
		{
			"cell_type": "code",
			"execution_count": 30,
			"metadata": {
				"tags": [],
				"trusted": true
			},
			"outputs": [
				{
					"name": "stdout",
					"output_type": "stream",
					"text": [
						"+--------+--------+-----------+------------+----------+------------------+-----------------+--------------+----------+-----------------+----------+-------------------+--------------+-------------+--------------+----------+--------------+---------+----------+\n",
						"|ID_venda| Horario|Canal_venda|Origem_venda|ID_produto|           Produto|Categoria_produto|Preco_unitario|Quantidade| Metodo_pagamento|ID_cliente|       Nome_cliente|Genero_cliente|Idade_cliente|Cidade_cliente|UF_cliente|Regiao_cliente|Avaliacao|      Data|\n",
						"+--------+--------+-----------+------------+----------+------------------+-----------------+--------------+----------+-----------------+----------+-------------------+--------------+-------------+--------------+----------+--------------+---------+----------+\n",
						"|    9052|04:19:11| e-commerce|    Facebook|        10|    Câmera digital|      Eletrônicos|        1299.0|         2|              PIX|       393|      Luigi da Mota|     Masculino|           32|       Goiânia|        GO|  Centro-Oeste|        2|2024-05-08|\n",
						"|    3021|10:09:00|     Loja 1|        Loja|        13|Ventilador de mesa| Eletrodomésticos|         129.0|         1|Cartão de crédito|       199|Pedro Miguel Novaes|     Masculino|           34|     São Paulo|        SP|       Sudeste|        5|2022-07-16|\n",
						"|     745|21:03:35| e-commerce|   Instagram|         5|    Liquidificador| Eletrodomésticos|         149.0|         3| Cartão de débito|        54|        Josué Souza|     Masculino|           41|Campina Grande|        PB|      Nordeste|        3|2021-11-12|\n",
						"+--------+--------+-----------+------------+----------+------------------+-----------------+--------------+----------+-----------------+----------+-------------------+--------------+-------------+--------------+----------+--------------+---------+----------+\n",
						"only showing top 3 rows\n"
					]
				}
			],
			"source": [
				"from pyspark.sql.functions import udf\n",
				"from pyspark.sql.types import StringType\n",
				"\n",
				"estados_brasil = {\n",
				"    \"Acre\": \"AC\", \"Alagoas\": \"AL\", \"Amazonas\": \"AM\", \"Amapá\": \"AP\", \"Bahia\": \"BA\",\n",
				"    \"Ceará\": \"CE\", \"Distrito Federal\": \"DF\", \"Espírito Santo\": \"ES\", \"Goiás\": \"GO\", \"Maranhão\": \"MA\",\n",
				"    \"Minas Gerais\": \"MG\", \"Mato Grosso do Sul\": \"MS\", \"Mato Grosso\": \"MT\", \"Pará\": \"PA\", \"Paraíba\": \"PB\",\n",
				"    \"Pernambuco\": \"PE\", \"Piauí\": \"PI\", \"Paraná\": \"PR\", \"Rio de Janeiro\": \"RJ\", \"Rio Grande do Norte\": \"RN\",\n",
				"    \"Rondônia\": \"RO\", \"Roraima\": \"RR\", \"Rio Grande do Sul\": \"RS\", \"Santa Catarina\": \"SC\", \"Sergipe\": \"SE\",\n",
				"    \"São Paulo\": \"SP\", \"Tocantins\": \"TO\"\n",
				"}\n",
				"\n",
				"# Criando uma UDF (User Defined Function) para fazer a conversão\n",
				"def converter_estado(nome_estado):\n",
				"    return estados_brasil.get(nome_estado)\n",
				"\n",
				"# Registrando a UDF com o tipo de retorno String\n",
				"converter_estado_udf = udf(converter_estado, StringType())\n",
				"\n",
				"# Aplicando a UDF na coluna 'uf_cliente' para criar a nova coluna com as siglas\n",
				"vendas_zoop_df = vendas_zoop_df.withColumn(\"UF_cliente\", converter_estado_udf(col(\"UF_cliente\")))\n",
				"vendas_zoop_df.show(3)"
			]
		},
		{
			"cell_type": "markdown",
			"metadata": {},
			"source": [
				"#### Observando se existem dados faltantes e os tipos dos dados"
			]
		},
		{
			"cell_type": "code",
			"execution_count": 31,
			"metadata": {
				"tags": [],
				"trusted": true
			},
			"outputs": [
				{
					"name": "stdout",
					"output_type": "stream",
					"text": [
						"<class 'pandas.core.frame.DataFrame'>\n",
						"RangeIndex: 10000 entries, 0 to 9999\n",
						"Data columns (total 19 columns):\n",
						" #   Column             Non-Null Count  Dtype  \n",
						"---  ------             --------------  -----  \n",
						" 0   ID_venda           10000 non-null  int64  \n",
						" 1   Horario            10000 non-null  object \n",
						" 2   Canal_venda        10000 non-null  object \n",
						" 3   Origem_venda       10000 non-null  object \n",
						" 4   ID_produto         10000 non-null  int64  \n",
						" 5   Produto            10000 non-null  object \n",
						" 6   Categoria_produto  9900 non-null   object \n",
						" 7   Preco_unitario     10000 non-null  float64\n",
						" 8   Quantidade         10000 non-null  int64  \n",
						" 9   Metodo_pagamento   10000 non-null  object \n",
						" 10  ID_cliente         10000 non-null  int64  \n",
						" 11  Nome_cliente       10000 non-null  object \n",
						" 12  Genero_cliente     10000 non-null  object \n",
						" 13  Idade_cliente      10000 non-null  int64  \n",
						" 14  Cidade_cliente     10000 non-null  object \n",
						" 15  UF_cliente         10000 non-null  object \n",
						" 16  Regiao_cliente     10000 non-null  object \n",
						" 17  Avaliacao          10000 non-null  int64  \n",
						" 18  Data               10000 non-null  object \n",
						"dtypes: float64(1), int64(6), object(12)\n",
						"memory usage: 1.4+ MB\n"
					]
				}
			],
			"source": [
				"vendas_zoop_df.toPandas().info()"
			]
		},
		{
			"cell_type": "markdown",
			"metadata": {},
			"source": [
				"#### Criando uma UDF para mapear e preencher as categorias faltantes de acordo com a coluna de produtos"
			]
		},
		{
			"cell_type": "code",
			"execution_count": 32,
			"metadata": {
				"tags": [],
				"trusted": true
			},
			"outputs": [
				{
					"name": "stdout",
					"output_type": "stream",
					"text": [
						"+--------+--------+-----------+------------+----------+------------------+-----------------+--------------+----------+-----------------+----------+-------------------+--------------+-------------+--------------+----------+--------------+---------+----------+\n",
						"|ID_venda| Horario|Canal_venda|Origem_venda|ID_produto|           Produto|Categoria_produto|Preco_unitario|Quantidade| Metodo_pagamento|ID_cliente|       Nome_cliente|Genero_cliente|Idade_cliente|Cidade_cliente|UF_cliente|Regiao_cliente|Avaliacao|      Data|\n",
						"+--------+--------+-----------+------------+----------+------------------+-----------------+--------------+----------+-----------------+----------+-------------------+--------------+-------------+--------------+----------+--------------+---------+----------+\n",
						"|    9052|04:19:11| e-commerce|    Facebook|        10|    Câmera digital|      Eletrônicos|        1299.0|         2|              PIX|       393|      Luigi da Mota|     Masculino|           32|       Goiânia|        GO|  Centro-Oeste|        2|2024-05-08|\n",
						"|    3021|10:09:00|     Loja 1|        Loja|        13|Ventilador de mesa| Eletrodomésticos|         129.0|         1|Cartão de crédito|       199|Pedro Miguel Novaes|     Masculino|           34|     São Paulo|        SP|       Sudeste|        5|2022-07-16|\n",
						"|     745|21:03:35| e-commerce|   Instagram|         5|    Liquidificador| Eletrodomésticos|         149.0|         3| Cartão de débito|        54|        Josué Souza|     Masculino|           41|Campina Grande|        PB|      Nordeste|        3|2021-11-12|\n",
						"|    7031|12:12:26| e-commerce|   Instagram|         4|        Smartphone|      Eletrônicos|        1499.0|         2|              PIX|       302|   Vicente Mendonça|     Masculino|           38|      Camaçari|        BA|      Nordeste|        3|2023-10-04|\n",
						"|    7296|11:55:00|     Loja 2|        Loja|        11| Chuveiro elétrico| Eletrodomésticos|          89.0|         3| Cartão de débito|       282|      Clara Rezende|      Feminino|           39|   São Gonçalo|        RJ|       Sudeste|        5|2023-11-02|\n",
						"+--------+--------+-----------+------------+----------+------------------+-----------------+--------------+----------+-----------------+----------+-------------------+--------------+-------------+--------------+----------+--------------+---------+----------+\n",
						"only showing top 5 rows\n"
					]
				}
			],
			"source": [
				"produtos_categorias = {\n",
				"    'Smart TV 55\"': 'Eletrônicos', 'Frigobar': 'Eletrodomésticos', 'Ventilador de teto': 'Eletrodomésticos',\n",
				"    'Cafeteira': 'Eletrodomésticos', 'Smartphone': 'Eletrônicos', 'Liquidificador': 'Eletrodomésticos',\n",
				"    'Notebook': 'Eletrônicos', 'Tablet': 'Eletrônicos', 'Micro-ondas': 'Eletrodomésticos',\n",
				"    'Aspirador de pó': 'Eletrodomésticos', 'Câmera digital': 'Eletrônicos', 'Chuveiro elétrico': 'Eletrodomésticos',\n",
				"    'Fone de ouvido': 'Eletrônicos', 'Ventilador de mesa': 'Eletrodomésticos', 'Impressora': 'Eletrônicos',\n",
				"    'Secador de cabelo': 'Eletrodomésticos', 'Relógio inteligente': 'Eletrônicos', 'Batedeira': 'Eletrodomésticos',\n",
				"    'Máquina de lavar roupa': 'Eletrodomésticos', 'Ferro de passar roupa': 'Eletrodomésticos', 'Cafeteira expresso': 'Eletrodomésticos',\n",
				"    'Aparelho de som': 'Eletrônicos', 'Geladeira': 'Eletrodomésticos', 'Forno elétrico': 'Eletrodomésticos',\n",
				"    'TV Box': 'Eletrônicos', 'Panela elétrica': 'Eletrodomésticos', 'Ventilador de coluna': 'Eletrodomésticos',\n",
				"    'Câmera de segurança': 'Eletrônicos', 'Fritadeira elétrica': 'Eletrodomésticos', 'Máquina de café': 'Eletrodomésticos'\n",
				"}\n",
				"\n",
				"# Passo 1: Definir uma UDF que usa o dicionário para preencher a categoria\n",
				"def preencher_categoria(produto, categoria):\n",
				"    if categoria is None:  # Se a categoria está faltando\n",
				"        return produtos_categorias.get(produto)  # Retorna a categoria correspondente ou None se não encontrado\n",
				"    else:\n",
				"        return categoria  # Mantém a categoria existente\n",
				"\n",
				"# Registrar a UDF\n",
				"preencher_categoria_udf = udf(preencher_categoria, StringType())\n",
				"\n",
				"# Passo 2: Aplicar a UDF na coluna 'categoria_produto'\n",
				"vendas_zoop_df = vendas_zoop_df.withColumn(\"Categoria_produto\", preencher_categoria_udf(col(\"Produto\"), col(\"Categoria_produto\"))\n",
				")\n",
				"\n",
				"# Exibir o DataFrame atualizado\n",
				"vendas_zoop_df.show(5)"
			]
		},
		{
			"cell_type": "markdown",
			"metadata": {},
			"source": [
				"#### Observando se a operação de preenchimento dos dados faltantes foi bem sucedida"
			]
		},
		{
			"cell_type": "code",
			"execution_count": 20,
			"metadata": {
				"tags": [],
				"trusted": true
			},
			"outputs": [
				{
					"name": "stdout",
					"output_type": "stream",
					"text": [
						"<class 'pandas.core.frame.DataFrame'>\n",
						"RangeIndex: 10000 entries, 0 to 9999\n",
						"Data columns (total 19 columns):\n",
						" #   Column             Non-Null Count  Dtype  \n",
						"---  ------             --------------  -----  \n",
						" 0   ID_venda           10000 non-null  int64  \n",
						" 1   Horario            10000 non-null  object \n",
						" 2   Canal_venda        10000 non-null  object \n",
						" 3   Origem_venda       10000 non-null  object \n",
						" 4   ID_produto         10000 non-null  int64  \n",
						" 5   Produto            10000 non-null  object \n",
						" 6   Categoria_produto  10000 non-null  object \n",
						" 7   Preco_unitario     10000 non-null  float64\n",
						" 8   Quantidade         10000 non-null  int64  \n",
						" 9   Metodo_pagamento   10000 non-null  object \n",
						" 10  ID_cliente         10000 non-null  int64  \n",
						" 11  Nome_cliente       10000 non-null  object \n",
						" 12  Genero_cliente     10000 non-null  object \n",
						" 13  Idade_cliente      10000 non-null  int64  \n",
						" 14  Cidade_cliente     10000 non-null  object \n",
						" 15  UF_cliente         10000 non-null  object \n",
						" 16  Regiao_cliente     10000 non-null  object \n",
						" 17  Avaliacao          10000 non-null  int64  \n",
						" 18  Data               10000 non-null  object \n",
						"dtypes: float64(1), int64(6), object(12)\n",
						"memory usage: 1.4+ MB\n"
					]
				}
			],
			"source": [
				"vendas_zoop_df.toPandas().info()"
			]
		},
		{
			"cell_type": "markdown",
			"metadata": {},
			"source": [
				"#### Convertendo um Spark Data Frame em um DynamicFrame"
			]
		},
		{
			"cell_type": "code",
			"execution_count": 34,
			"metadata": {
				"tags": [],
				"trusted": true
			},
			"outputs": [
				{
					"name": "stdout",
					"output_type": "stream",
					"text": [
						"\n"
					]
				}
			],
			"source": [
				"from awsglue.dynamicframe import DynamicFrame\n",
				"\n",
				"# Converter o DataFrame Spark em DynamicFrame\n",
				"vendas_zoop_dyf = DynamicFrame.fromDF(vendas_zoop_df, glueContext, \"glue_etl\")"
			]
		},
		{
			"cell_type": "markdown",
			"metadata": {},
			"source": [
				"#### Observando o schema do DynamicFrame transformado"
			]
		},
		{
			"cell_type": "code",
			"execution_count": 35,
			"metadata": {
				"tags": [],
				"trusted": true
			},
			"outputs": [
				{
					"name": "stdout",
					"output_type": "stream",
					"text": [
						"root\n",
						"|-- ID_venda: long\n",
						"|-- Horario: string\n",
						"|-- Canal_venda: string\n",
						"|-- Origem_venda: string\n",
						"|-- ID_produto: long\n",
						"|-- Produto: string\n",
						"|-- Categoria_produto: string\n",
						"|-- Preco_unitario: double\n",
						"|-- Quantidade: long\n",
						"|-- Metodo_pagamento: string\n",
						"|-- ID_cliente: long\n",
						"|-- Nome_cliente: string\n",
						"|-- Genero_cliente: string\n",
						"|-- Idade_cliente: long\n",
						"|-- Cidade_cliente: string\n",
						"|-- UF_cliente: string\n",
						"|-- Regiao_cliente: string\n",
						"|-- Avaliacao: long\n",
						"|-- Data: date\n"
					]
				}
			],
			"source": [
				"vendas_zoop_dyf.printSchema()"
			]
		},
		{
			"cell_type": "markdown",
			"metadata": {},
			"source": [
				"#### Ajustando os tipos dos dados e mapeando as colunas desejadas"
			]
		},
		{
			"cell_type": "code",
			"execution_count": 37,
			"metadata": {
				"tags": [],
				"trusted": true
			},
			"outputs": [
				{
					"name": "stdout",
					"output_type": "stream",
					"text": [
						"root\n",
						"|-- id_venda: long\n",
						"|-- data: date\n",
						"|-- horario: timestamp\n",
						"|-- canal_venda: string\n",
						"|-- origem_venda: string\n",
						"|-- id_produto: long\n",
						"|-- produto: string\n",
						"|-- categoria_produto: string\n",
						"|-- preco_unitario: double\n",
						"|-- quantidade: int\n",
						"|-- metodo_pagamento: string\n",
						"|-- id_cliente: long\n",
						"|-- nome_cliente: string\n",
						"|-- genero_cliente: string\n",
						"|-- idade_cliente: int\n",
						"|-- cidade_cliente: string\n",
						"|-- uf_cliente: string\n",
						"|-- regiao_cliente: string\n",
						"|-- avaliacao: int\n"
					]
				}
			],
			"source": [
				"vendas_zoop_dyf_mapeado = vendas_zoop_dyf.apply_mapping(\n",
				"    mappings=[\n",
				"        (\"ID_venda\", \"long\", \"id_venda\", \"long\"),\n",
				"        (\"Data\", \"date\", \"data\", \"date\"),\n",
				"        (\"Horario\", \"string\", \"horario\", \"timestamp\"),\n",
				"        (\"Canal_venda\", \"string\", \"canal_venda\", \"string\"),\n",
				"        (\"Origem_venda\", \"string\", \"origem_venda\", \"string\"),\n",
				"        (\"ID_produto\", \"long\", \"id_produto\", \"long\"),\n",
				"        (\"Produto\", \"string\", \"produto\", \"string\"),\n",
				"        (\"Categoria_produto\", \"string\", \"categoria_produto\", \"string\"),\n",
				"        (\"Preco_unitario\", \"double\", \"preco_unitario\", \"double\"),\n",
				"        (\"Quantidade\", \"long\", \"quantidade\", \"int\"),\n",
				"        (\"Metodo_pagamento\", \"string\", \"metodo_pagamento\", \"string\"),\n",
				"        (\"ID_cliente\", \"long\", \"id_cliente\", \"long\"),\n",
				"        (\"Nome_cliente\", \"string\", \"nome_cliente\", \"string\"),\n",
				"        (\"Genero_cliente\", \"string\", \"genero_cliente\", \"string\"),\n",
				"        (\"Idade_cliente\", \"long\", \"idade_cliente\", \"int\"),\n",
				"        (\"Cidade_cliente\", \"string\", \"cidade_cliente\", \"string\"),\n",
				"        (\"UF_cliente\", \"string\", \"uf_cliente\", \"string\"),\n",
				"        (\"Regiao_cliente\", \"string\", \"regiao_cliente\", \"string\"),\n",
				"        (\"Avaliacao\", \"long\", \"avaliacao\", \"int\")\n",
				"    ]\n",
				")\n",
				"\n",
				"vendas_zoop_dyf_mapeado.printSchema()"
			]
		},
		{
			"cell_type": "markdown",
			"metadata": {
				"editable": true,
				"tags": [],
				"trusted": true
			},
			"source": [
				"#### Escrevendo os dados do DynamicFrame em um objeto do Bucket S3 na camada silver e em uma tabela no AWS Glue Data Catalog\n"
			]
		},
		{
			"cell_type": "code",
			"execution_count": 38,
			"metadata": {
				"editable": true,
				"trusted": true
			},
			"outputs": [
				{
					"name": "stdout",
					"output_type": "stream",
					"text": [
						"<awsglue.dynamicframe.DynamicFrame object at 0x7ffb7693ff70>\n"
					]
				}
			],
			"source": [
				"s3output = glueContext.getSink(\n",
				"  path=\"s3://dados-zoop/silver/vendas\",  # adicione o nome do seu bucket no path\n",
				"  connection_type=\"s3\",\n",
				"  updateBehavior=\"UPDATE_IN_DATABASE\",\n",
				"  partitionKeys=[],\n",
				"  compression=\"snappy\",\n",
				"  enableUpdateCatalog=True,\n",
				"  transformation_ctx=\"s3output\",\n",
				")\n",
				"s3output.setCatalogInfo(\n",
				"  catalogDatabase=\"db-glue-zoop\", catalogTableName=\"zoop-glue-vendas_zoop_silver\"\n",
				")\n",
				"s3output.setFormat(\"glueparquet\")\n",
				"s3output.writeFrame(vendas_zoop_dyf_mapeado)"
			]
		}
	],
	"metadata": {
		"kernelspec": {
			"display_name": "Python 3",
			"language": "python",
			"name": "python3"
		},
		"language_info": {
			"codemirror_mode": {
				"name": "python",
				"version": 3
			},
			"file_extension": ".py",
			"mimetype": "text/x-python",
			"name": "python",
			"pygments_lexer": "python3",
			"version": "3.10.5"
		}
	},
	"nbformat": 4,
	"nbformat_minor": 4
}
