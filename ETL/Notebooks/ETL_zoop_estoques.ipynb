{
	"cells": [
		{
			"cell_type": "markdown",
			"metadata": {
				"editable": true,
				"trusted": true
			},
			"source": [
				"# AWS Glue Studio Notebook - Estoques\n",
				"\n",
				"##### Você está executando um Notebook do AWS Glue Studio. Para começar a utilizá-lo, você precisa iniciar um Sessão interativa do AWS Glue.\n",
				"\n",
				"Este é o notebook utilizado no processo de ETL dos dados da Tabela Estoques da Zoop. Observe cada uma das etapas e, em caso de dúvidas, assista ao vídeo correspondente ao tratamento desta tabela.\n",
				"\n",
				"Faça bom proveito deste conteúdo! &#x1F642;"
			]
		},
		{
			"cell_type": "markdown",
			"metadata": {
				"editable": true,
				"trusted": true
			},
			"source": [
				"#### Opcional: Execute esta célula se quiser observar os comandos deste notebook (\"magics\")."
			]
		},
		{
			"cell_type": "code",
			"execution_count": 1,
			"metadata": {
				"editable": true,
				"trusted": true
			},
			"outputs": [
				{
					"name": "stdout",
					"output_type": "stream",
					"text": [
						"Welcome to the Glue Interactive Sessions Kernel\n",
						"For more information on available magic commands, please type %help in any new cell.\n",
						"\n",
						"Please view our Getting Started page to access the most up-to-date information on the Interactive Sessions kernel: https://docs.aws.amazon.com/glue/latest/dg/interactive-sessions.html\n",
						"Installed kernel version: 1.0.5 \n"
					]
				}
			],
			"source": [
				"%help"
			]
		},
		{
			"cell_type": "markdown",
			"metadata": {
				"editable": true,
				"trusted": true
			},
			"source": [
				"#### Configurando e iniciando uma sessão interativa."
			]
		},
		{
			"cell_type": "code",
			"execution_count": 1,
			"metadata": {
				"editable": true,
				"trusted": true
			},
			"outputs": [
				{
					"name": "stdout",
					"output_type": "stream",
					"text": [
						"Current idle_timeout is None minutes.\n",
						"idle_timeout has been set to 60 minutes.\n",
						"Setting Glue version to: 4.0\n",
						"Previous worker type: None\n",
						"Setting new worker type to: G.1X\n",
						"Previous number of workers: None\n",
						"Setting new number of workers to: 5\n",
						"Trying to create a Glue session for the kernel.\n",
						"Session Type: glueetl\n",
						"Worker Type: G.1X\n",
						"Number of Workers: 5\n",
						"Idle Timeout: 60\n",
						"Session ID: ef2c5254-c35e-4519-b7c0-7b3e0b25ffe1\n",
						"Applying the following default arguments:\n",
						"--glue_kernel_version 1.0.5\n",
						"--enable-glue-datacatalog true\n",
						"Waiting for session ef2c5254-c35e-4519-b7c0-7b3e0b25ffe1 to get into ready status...\n",
						"Session ef2c5254-c35e-4519-b7c0-7b3e0b25ffe1 has been created.\n",
						"\n"
					]
				}
			],
			"source": [
				"%idle_timeout 60\n",
				"%glue_version 4.0\n",
				"%worker_type G.1X\n",
				"%number_of_workers 5\n",
				"\n",
				"import sys\n",
				"from awsglue.transforms import *\n",
				"from awsglue.utils import getResolvedOptions\n",
				"from pyspark.context import SparkContext\n",
				"from awsglue.context import GlueContext\n",
				"from awsglue.job import Job\n",
				"  \n",
				"sc = SparkContext.getOrCreate()\n",
				"glueContext = GlueContext(sc)\n",
				"spark = glueContext.spark_session\n",
				"job = Job(glueContext)"
			]
		},
		{
			"cell_type": "markdown",
			"metadata": {
				"editable": true,
				"trusted": true
			},
			"source": [
				"#### Criando um DynamicFrame de uma tabela no AWS Glue Data Catalog e mostrando seu schema"
			]
		},
		{
			"cell_type": "code",
			"execution_count": 2,
			"metadata": {
				"editable": true,
				"trusted": true
			},
			"outputs": [
				{
					"name": "stdout",
					"output_type": "stream",
					"text": [
						"root\n",
						"|-- ID_estoque: long\n",
						"|-- ID_produto: long\n",
						"|-- Produto: string\n",
						"|-- Categoria_produto: string\n",
						"|-- Data: string\n",
						"|-- Horario: string\n",
						"|-- Quantidade_em_estoque: long\n",
						"|-- Quantidade_novos_produtos: long\n",
						"|-- Quantidade_vendida: long\n"
					]
				}
			],
			"source": [
				"estoques_zoop_dyf = glueContext.create_dynamic_frame.from_catalog(database='db-glue-zoop', table_name='zoop-glue-estoques_zoop_bronze_parquet')\n",
				"estoques_zoop_dyf.printSchema()"
			]
		},
		{
			"cell_type": "markdown",
			"metadata": {
				"editable": true,
				"trusted": true
			},
			"source": [
				"#### Criando um Spark DataFrame de um DynamicFrame"
			]
		},
		{
			"cell_type": "code",
			"execution_count": 3,
			"metadata": {
				"editable": true,
				"trusted": true
			},
			"outputs": [
				{
					"name": "stdout",
					"output_type": "stream",
					"text": [
						"+----------+----------+---------------+-----------------+----------+--------+---------------------+-------------------------+------------------+\n",
						"|ID_estoque|ID_produto|        Produto|Categoria_produto|      Data| Horario|Quantidade_em_estoque|Quantidade_novos_produtos|Quantidade_vendida|\n",
						"+----------+----------+---------------+-----------------+----------+--------+---------------------+-------------------------+------------------+\n",
						"|       535|        25|Panela_elétrica| Eletrodomésticos|2022/12/01|21:58:00|                  319|                       14|                16|\n",
						"|      1020|         0|   Smart_TV_55\"|      Eletrônicos|2024/05/01|09:14:00|                  389|                       11|                28|\n",
						"|       810|         0|   Smart_TV_55\"|      Eletrônicos|2023/10/01|12:15:00|                  355|                       19|                23|\n",
						"|       699|         9|Aspirador_de_pó| Eletrodomésticos|2023/06/01|20:09:00|                  250|                       50|                13|\n",
						"|       877|         7|         Tablet|      Eletrônicos|2023/12/01|10:52:00|                  450|                       48|                41|\n",
						"+----------+----------+---------------+-----------------+----------+--------+---------------------+-------------------------+------------------+\n",
						"only showing top 5 rows\n",
						"\n",
						"/opt/amazon/spark/python/lib/pyspark.zip/pyspark/sql/dataframe.py:127: UserWarning: DataFrame constructor is internal. Do not directly use it.\n"
					]
				}
			],
			"source": [
				"estoques_zoop_df = estoques_zoop_dyf.toDF()\n",
				"estoques_zoop_df.show(5)"
			]
		},
		{
			"cell_type": "markdown",
			"metadata": {},
			"source": [
				"#### Tratando a coluna `Produto` removendo (_) que separam os nomes dos produtos"
			]
		},
		{
			"cell_type": "code",
			"execution_count": 4,
			"metadata": {
				"tags": [],
				"trusted": true
			},
			"outputs": [
				{
					"name": "stdout",
					"output_type": "stream",
					"text": [
						"+----------+----------+---------------+-----------------+----------+--------+---------------------+-------------------------+------------------+\n",
						"|ID_estoque|ID_produto|        Produto|Categoria_produto|      Data| Horario|Quantidade_em_estoque|Quantidade_novos_produtos|Quantidade_vendida|\n",
						"+----------+----------+---------------+-----------------+----------+--------+---------------------+-------------------------+------------------+\n",
						"|       535|        25|Panela elétrica| Eletrodomésticos|2022/12/01|21:58:00|                  319|                       14|                16|\n",
						"|      1020|         0|   Smart TV 55\"|      Eletrônicos|2024/05/01|09:14:00|                  389|                       11|                28|\n",
						"|       810|         0|   Smart TV 55\"|      Eletrônicos|2023/10/01|12:15:00|                  355|                       19|                23|\n",
						"+----------+----------+---------------+-----------------+----------+--------+---------------------+-------------------------+------------------+\n",
						"only showing top 3 rows\n"
					]
				}
			],
			"source": [
				"from pyspark.sql.functions import regexp_replace\n",
				"\n",
				"estoques_zoop_df = estoques_zoop_df.withColumn(\"Produto\", regexp_replace(\"Produto\", \"_\", \" \"))\n",
				"estoques_zoop_df.show(3)"
			]
		},
		{
			"cell_type": "markdown",
			"metadata": {},
			"source": [
				"#### Ajustando as datas da coluna `Data`"
			]
		},
		{
			"cell_type": "code",
			"execution_count": 5,
			"metadata": {
				"trusted": true
			},
			"outputs": [
				{
					"name": "stdout",
					"output_type": "stream",
					"text": [
						"+----------+----------+---------------+-----------------+----------+--------+---------------------+-------------------------+------------------+\n",
						"|ID_estoque|ID_produto|        Produto|Categoria_produto|      Data| Horario|Quantidade_em_estoque|Quantidade_novos_produtos|Quantidade_vendida|\n",
						"+----------+----------+---------------+-----------------+----------+--------+---------------------+-------------------------+------------------+\n",
						"|       535|        25|Panela elétrica| Eletrodomésticos|2022-12-01|21:58:00|                  319|                       14|                16|\n",
						"|      1020|         0|   Smart TV 55\"|      Eletrônicos|2024-05-01|09:14:00|                  389|                       11|                28|\n",
						"|       810|         0|   Smart TV 55\"|      Eletrônicos|2023-10-01|12:15:00|                  355|                       19|                23|\n",
						"+----------+----------+---------------+-----------------+----------+--------+---------------------+-------------------------+------------------+\n",
						"only showing top 3 rows\n"
					]
				}
			],
			"source": [
				"from pyspark.sql.functions import to_date\n",
				"\n",
				"estoques_zoop_df = estoques_zoop_df.withColumn(\"Data\", to_date(\"Data\", \"yyyy/MM/dd\"))\n",
				"estoques_zoop_df.show(3)"
			]
		},
		{
			"cell_type": "markdown",
			"metadata": {},
			"source": [
				"#### Convertendo um Spark Data Frame em um DynamicFrame"
			]
		},
		{
			"cell_type": "code",
			"execution_count": 6,
			"metadata": {
				"tags": [],
				"trusted": true
			},
			"outputs": [
				{
					"name": "stdout",
					"output_type": "stream",
					"text": [
						"\n"
					]
				}
			],
			"source": [
				"from awsglue.dynamicframe import DynamicFrame\n",
				"\n",
				"estoques_zoop_dyf = DynamicFrame.fromDF(estoques_zoop_df, glueContext)"
			]
		},
		{
			"cell_type": "markdown",
			"metadata": {},
			"source": [
				"#### Ajustando os tipos dos dados e mapeando as colunas desejadas"
			]
		},
		{
			"cell_type": "code",
			"execution_count": 7,
			"metadata": {
				"tags": [],
				"trusted": true
			},
			"outputs": [
				{
					"name": "stdout",
					"output_type": "stream",
					"text": [
						"root\n",
						"|-- id_estoque: long\n",
						"|-- id_produto: long\n",
						"|-- produto: string\n",
						"|-- categoria_produto: string\n",
						"|-- data: date\n",
						"|-- horario: timestamp\n",
						"|-- quantidade_em_estoque: int\n",
						"|-- quantidade_novos_produtos: int\n",
						"|-- quantidade_vendida: int\n"
					]
				}
			],
			"source": [
				"estoques_zoop_dyf_mapeado = estoques_zoop_dyf.apply_mapping(\n",
				"    mappings=[\n",
				"        (\"ID_estoque\", \"long\", \"id_estoque\", \"long\"),\n",
				"        (\"ID_produto\", \"long\", \"id_produto\", \"long\"),\n",
				"        (\"Produto\", \"string\", \"produto\", \"string\"),\n",
				"        (\"Categoria_produto\", \"string\", \"categoria_produto\", \"string\"),\n",
				"        (\"Data\", \"date\", \"data\", \"date\"),\n",
				"        (\"Horario\", \"string\", \"horario\", \"timestamp\"),\n",
				"        (\"Quantidade_em_estoque\", \"long\", \"quantidade_em_estoque\", \"int\"),\n",
				"        (\"Quantidade_novos_produtos\", \"long\", \"quantidade_novos_produtos\", \"int\"),\n",
				"        (\"Quantidade_vendida\", \"long\", \"quantidade_vendida\", \"int\")\n",
				"    ]\n",
				")\n",
				"\n",
				"estoques_zoop_dyf_mapeado.printSchema()"
			]
		},
		{
			"cell_type": "markdown",
			"metadata": {
				"editable": true,
				"tags": [],
				"trusted": true
			},
			"source": [
				"#### Escrevendo os dados do DynamicFrame em um objeto do Bucket S3 na camada silver e em uma tabela no AWS Glue Data Catalog\n"
			]
		},
		{
			"cell_type": "code",
			"execution_count": 8,
			"metadata": {
				"editable": true,
				"trusted": true
			},
			"outputs": [
				{
					"name": "stdout",
					"output_type": "stream",
					"text": [
						"<awsglue.dynamicframe.DynamicFrame object at 0x7fb04c2f9f90>\n"
					]
				}
			],
			"source": [
				"s3output = glueContext.getSink(\n",
				"  path=\"s3://dados-zoop/silver/estoques\",  # adicione o nome do seu bucket no path\n",
				"  connection_type=\"s3\",\n",
				"  updateBehavior=\"UPDATE_IN_DATABASE\",\n",
				"  partitionKeys=[],\n",
				"  compression=\"snappy\",\n",
				"  enableUpdateCatalog=True,\n",
				"  transformation_ctx=\"s3output\",\n",
				")\n",
				"s3output.setCatalogInfo(\n",
				"  catalogDatabase=\"db-glue-zoop\", catalogTableName=\"zoop-glue-estoques_zoop_silver\"\n",
				")\n",
				"s3output.setFormat(\"glueparquet\")\n",
				"s3output.writeFrame(estoques_zoop_dyf_mapeado)"
			]
		}
	],
	"metadata": {
		"kernelspec": {
			"display_name": "Python 3",
			"language": "python",
			"name": "python3"
		},
		"language_info": {
			"codemirror_mode": {
				"name": "python",
				"version": 3
			},
			"file_extension": ".py",
			"mimetype": "text/x-python",
			"name": "python",
			"pygments_lexer": "python3",
			"version": "3.10.5"
		}
	},
	"nbformat": 4,
	"nbformat_minor": 4
}
